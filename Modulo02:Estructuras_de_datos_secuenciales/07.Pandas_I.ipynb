{
  "nbformat": 4,
  "nbformat_minor": 0,
  "metadata": {
    "colab": {
      "provenance": [],
      "include_colab_link": true
    },
    "kernelspec": {
      "name": "python3",
      "display_name": "Python 3"
    },
    "language_info": {
      "name": "python"
    }
  },
  "cells": [
    {
      "cell_type": "markdown",
      "metadata": {
        "id": "view-in-github",
        "colab_type": "text"
      },
      "source": [
        "<a href=\"https://colab.research.google.com/github/mpintoponce/Python_Practice/blob/main/Modulo02%3AEstructuras_de_datos_secuenciales/07.Pandas_I.ipynb\" target=\"_parent\"><img src=\"https://colab.research.google.com/assets/colab-badge.svg\" alt=\"Open In Colab\"/></a>"
      ]
    },
    {
      "cell_type": "markdown",
      "source": [
        "## Pandas"
      ],
      "metadata": {
        "id": "-Nqz6ukyNDeh"
      }
    },
    {
      "cell_type": "markdown",
      "source": [
        "### Series"
      ],
      "metadata": {
        "id": "692MPyAFNXEh"
      }
    },
    {
      "cell_type": "code",
      "execution_count": null,
      "metadata": {
        "id": "c9djoeVPNBVV"
      },
      "outputs": [],
      "source": [
        "# Llamar a la librería Pandas\n",
        "import pandas as pd"
      ]
    },
    {
      "cell_type": "code",
      "source": [
        "# Creación de una serie a partir de 5 números aleatorios usando la librería numpy\n",
        "import numpy as np\n",
        "\n",
        "pd.Series(np.random.randn(5))"
      ],
      "metadata": {
        "id": "pj_iqthXNEd4"
      },
      "execution_count": null,
      "outputs": []
    },
    {
      "cell_type": "code",
      "source": [
        "pd.Series(np.random.randn(5), index=['a', 'b', 'c', 'd', 'e'])"
      ],
      "metadata": {
        "id": "q8LaW3tKNgNc"
      },
      "execution_count": null,
      "outputs": []
    },
    {
      "cell_type": "markdown",
      "source": [
        "### DataFrames"
      ],
      "metadata": {
        "id": "O--CFjOkNnIH"
      }
    },
    {
      "cell_type": "code",
      "source": [
        "# Data Frames que provienen de diccionarios de series.\n",
        "d = {\n",
        "    'c1': pd.Series(['A', 'B', 'C']),\n",
        "    'c2': pd.Series([1, 2., 3., 4.])\n",
        "    }\n",
        "\n",
        "print(d)"
      ],
      "metadata": {
        "id": "U52C7VdnNh5z"
      },
      "execution_count": null,
      "outputs": []
    },
    {
      "cell_type": "code",
      "source": [
        "# Convertir un diccionario en un DataFrame\n",
        "df = pd.DataFrame(d)\n",
        "df"
      ],
      "metadata": {
        "id": "-8Hxlp0VN1fb"
      },
      "execution_count": null,
      "outputs": []
    },
    {
      "cell_type": "code",
      "source": [
        "# Data Frames que provienen de diccionarios de listas.\n",
        "d = {\n",
        "    'c1': ['A', 'B', 'C', 'D'],\n",
        "    'c2': [1, 2.0, 3.0, 4.0]\n",
        "    }\n",
        "\n",
        "df = pd.DataFrame(d)"
      ],
      "metadata": {
        "id": "OGGaawRSN4SU"
      },
      "execution_count": null,
      "outputs": []
    },
    {
      "cell_type": "code",
      "source": [
        "df"
      ],
      "metadata": {
        "id": "Yi-IG-tHOQbW"
      },
      "execution_count": null,
      "outputs": []
    },
    {
      "cell_type": "code",
      "source": [
        "np.random.randn(4, 3)"
      ],
      "metadata": {
        "id": "HiSyZ7VR70na"
      },
      "execution_count": null,
      "outputs": []
    },
    {
      "cell_type": "code",
      "source": [
        "# Data Frames que provienen de diccionarios de series.\n",
        "\n",
        "d = {\n",
        "    'Item1': pd.DataFrame(np.random.randn(4, 3)),\n",
        "    'Item2': pd.DataFrame(np.random.randn(4, 2))\n",
        "    }\n",
        "\n",
        "print(d)"
      ],
      "metadata": {
        "id": "MTsdbVP9ORIH"
      },
      "execution_count": null,
      "outputs": []
    },
    {
      "cell_type": "code",
      "source": [
        "pd.DataFrame(d['Item1'])"
      ],
      "metadata": {
        "id": "dXMbjjLRO6ju"
      },
      "execution_count": null,
      "outputs": []
    },
    {
      "cell_type": "code",
      "source": [
        "pd.DataFrame(d['Item2'])"
      ],
      "metadata": {
        "id": "OS6pbKs2PNM6"
      },
      "execution_count": null,
      "outputs": []
    },
    {
      "cell_type": "markdown",
      "source": [
        "### Conectar Google Colab con Google Drive"
      ],
      "metadata": {
        "id": "ihY3AVcWoCjQ"
      }
    },
    {
      "cell_type": "code",
      "source": [
        "from google.colab import drive\n",
        "drive.mount('/gdrive')"
      ],
      "metadata": {
        "id": "f3XmmgqRQVGh",
        "outputId": "84608ded-0576-4352-ffb3-f6e1c0de4003",
        "colab": {
          "base_uri": "https://localhost:8080/"
        }
      },
      "execution_count": 1,
      "outputs": [
        {
          "output_type": "stream",
          "name": "stdout",
          "text": [
            "Mounted at /gdrive\n"
          ]
        }
      ]
    },
    {
      "cell_type": "markdown",
      "source": [
        "### Importar Datos CSV"
      ],
      "metadata": {
        "id": "CfjnNf2ZQ76T"
      }
    },
    {
      "cell_type": "code",
      "source": [
        "ruta = \"/gdrive/My Drive/[UTEC_2025]/[Programa_Python_Mayo]/ALUMNOS/\"\n",
        "dataset = \"students.csv\""
      ],
      "metadata": {
        "id": "waWLFsNPYjpH"
      },
      "execution_count": null,
      "outputs": []
    },
    {
      "cell_type": "code",
      "source": [
        "ruta+dataset"
      ],
      "metadata": {
        "id": "nhuVAQIVZPsI"
      },
      "execution_count": null,
      "outputs": []
    },
    {
      "cell_type": "code",
      "source": [
        "d = pd.read_csv(ruta+dataset)"
      ],
      "metadata": {
        "id": "swuh-XTJZFnE"
      },
      "execution_count": null,
      "outputs": []
    },
    {
      "cell_type": "code",
      "source": [
        "#Leer los primeros registros.\n",
        "d.head()"
      ],
      "metadata": {
        "id": "Neem2H3dZKdw"
      },
      "execution_count": null,
      "outputs": []
    },
    {
      "cell_type": "code",
      "source": [
        "#Leer registros específicos de una variable\n",
        "d[0:5]['REGION']\n"
      ],
      "metadata": {
        "id": "3lOaWpp5ZasZ"
      },
      "execution_count": null,
      "outputs": []
    },
    {
      "cell_type": "code",
      "source": [
        "# Diccionario de datos\n",
        "d = {\n",
        "    'c1': pd.Series(['A', 'B', 'C']),\n",
        "    'c2': pd.Series([1, 2., 3., 4.])\n",
        "    }\n",
        "\n",
        "df = pd.DataFrame(d)\n",
        "df"
      ],
      "metadata": {
        "id": "ppWmRcfUZguy"
      },
      "execution_count": null,
      "outputs": []
    },
    {
      "cell_type": "code",
      "source": [
        "ruta_out = \"/gdrive/My Drive/[UTEC_2025]/[Programa_Python_Mayo]/ALUMNOS/out/\"\n",
        "df.to_csv(ruta_out+'sample_data.csv')"
      ],
      "metadata": {
        "id": "AZg_W9Q1Z4Vz"
      },
      "execution_count": null,
      "outputs": []
    },
    {
      "cell_type": "markdown",
      "source": [
        "### Importar Datos EXCEL"
      ],
      "metadata": {
        "id": "DVCLapDMaUY4"
      }
    },
    {
      "cell_type": "code",
      "source": [
        "# Importar datos en formato xls.\n",
        "dataset = 'students.xls'\n",
        "d = pd.read_excel(ruta+dataset)\n",
        "#Leer los primeros registros.\n",
        "d.head()"
      ],
      "metadata": {
        "id": "sV5shLLsaKRp"
      },
      "execution_count": null,
      "outputs": []
    },
    {
      "cell_type": "code",
      "source": [
        "#Leer registros específicos de una variable\n",
        "df = d[0:5]['COUNTY']\n",
        "df"
      ],
      "metadata": {
        "id": "U9u3K2S3azQN"
      },
      "execution_count": null,
      "outputs": []
    },
    {
      "cell_type": "code",
      "source": [
        "#Exportar datos de un data frame a un xls\n",
        "df.to_excel(ruta_out+'sample_data.xlsx')"
      ],
      "metadata": {
        "id": "Xv24F2YDa-hv"
      },
      "execution_count": null,
      "outputs": []
    },
    {
      "cell_type": "markdown",
      "source": [
        "### Importar Datos JSON"
      ],
      "metadata": {
        "id": "vhStmcxzbT16"
      }
    },
    {
      "cell_type": "code",
      "source": [
        "ruta = \"/gdrive/My Drive/[UTEC_2025]/[Programa_Python_Mayo]/ALUMNOS/\"\n",
        "dataset = \"students.json\""
      ],
      "metadata": {
        "id": "9bNEypA2V1Gn"
      },
      "execution_count": null,
      "outputs": []
    },
    {
      "cell_type": "code",
      "source": [
        "import json\n",
        "\n",
        "json_data = open(ruta+dataset)\n",
        "data = json.load(json_data)"
      ],
      "metadata": {
        "id": "k9JabbBBbB-4"
      },
      "execution_count": null,
      "outputs": []
    },
    {
      "cell_type": "code",
      "source": [
        "data.keys()"
      ],
      "metadata": {
        "id": "bvUvzAqjbwCZ"
      },
      "execution_count": null,
      "outputs": []
    },
    {
      "cell_type": "code",
      "source": [
        "data['meta']"
      ],
      "metadata": {
        "id": "BRl0ZO3IeMoZ"
      },
      "execution_count": null,
      "outputs": []
    },
    {
      "cell_type": "code",
      "source": [
        "data['data'][0]"
      ],
      "metadata": {
        "id": "aoQK8lYHbzpw"
      },
      "execution_count": null,
      "outputs": []
    },
    {
      "cell_type": "code",
      "source": [
        "data['data'][1]"
      ],
      "metadata": {
        "id": "oe8X2UBZXA2t"
      },
      "execution_count": null,
      "outputs": []
    },
    {
      "cell_type": "code",
      "source": [
        "json_data.close()"
      ],
      "metadata": {
        "id": "RbdJiVDhXsRo"
      },
      "execution_count": null,
      "outputs": []
    },
    {
      "cell_type": "markdown",
      "source": [
        "### Actividad N040"
      ],
      "metadata": {
        "id": "Sx5gNLm5eX1H"
      }
    },
    {
      "cell_type": "markdown",
      "source": [
        "Leer el archivo de datos “data_train” y realice una vista previa de los datos."
      ],
      "metadata": {
        "id": "oV4IghMTeaQm"
      }
    },
    {
      "cell_type": "code",
      "source": [],
      "metadata": {
        "id": "DxSfRZ_tYIoJ"
      },
      "execution_count": null,
      "outputs": []
    }
  ]
}