{
  "nbformat": 4,
  "nbformat_minor": 0,
  "metadata": {
    "colab": {
      "provenance": [],
      "authorship_tag": "ABX9TyNc8mwnZ2VplA7SCRpNmPhu",
      "include_colab_link": true
    },
    "kernelspec": {
      "name": "python3",
      "display_name": "Python 3"
    },
    "language_info": {
      "name": "python"
    }
  },
  "cells": [
    {
      "cell_type": "markdown",
      "metadata": {
        "id": "view-in-github",
        "colab_type": "text"
      },
      "source": [
        "<a href=\"https://colab.research.google.com/github/mpintoponce/Python_Practice/blob/main/Sets_PPC.ipynb\" target=\"_parent\"><img src=\"https://colab.research.google.com/assets/colab-badge.svg\" alt=\"Open In Colab\"/></a>"
      ]
    },
    {
      "cell_type": "code",
      "execution_count": 3,
      "metadata": {
        "colab": {
          "base_uri": "https://localhost:8080/"
        },
        "id": "8-OTTfattmOU",
        "outputId": "cfe2a9e4-ccb4-4ddf-ca7b-b131a8273c7e"
      },
      "outputs": [
        {
          "output_type": "execute_result",
          "data": {
            "text/plain": [
              "{1, 2, 3, 4, 6, 7, 8, 9, 10}"
            ]
          },
          "metadata": {},
          "execution_count": 3
        }
      ],
      "source": [
        "set1 = {1,2,3,4,5,6,7,8,9,10}\n",
        "\n",
        "set1.remove(5)\n",
        "set1"
      ]
    },
    {
      "cell_type": "code",
      "source": [
        "set1.discard(5)\n",
        "set1"
      ],
      "metadata": {
        "colab": {
          "base_uri": "https://localhost:8080/"
        },
        "id": "fX3KxSs5ttFy",
        "outputId": "12c8da4a-24b5-4a7a-8588-331056eb281d"
      },
      "execution_count": 5,
      "outputs": [
        {
          "output_type": "execute_result",
          "data": {
            "text/plain": [
              "{1, 2, 3, 4, 6, 7, 8, 9, 10}"
            ]
          },
          "metadata": {},
          "execution_count": 5
        }
      ]
    },
    {
      "cell_type": "code",
      "source": [
        "set1.remove(5) #En este caso arroja error porque el remove no encuentra el valor de 5. Pero en caso de \"Discard\" no arroja error."
      ],
      "metadata": {
        "colab": {
          "base_uri": "https://localhost:8080/",
          "height": 135
        },
        "id": "sWoE9ylqt84p",
        "outputId": "64378cac-4738-4488-baf1-c08ba5a50d13"
      },
      "execution_count": 6,
      "outputs": [
        {
          "output_type": "error",
          "ename": "KeyError",
          "evalue": "5",
          "traceback": [
            "\u001b[0;31m---------------------------------------------------------------------------\u001b[0m",
            "\u001b[0;31mKeyError\u001b[0m                                  Traceback (most recent call last)",
            "\u001b[0;32m<ipython-input-6-9a27511783be>\u001b[0m in \u001b[0;36m<cell line: 0>\u001b[0;34m()\u001b[0m\n\u001b[0;32m----> 1\u001b[0;31m \u001b[0mset1\u001b[0m\u001b[0;34m.\u001b[0m\u001b[0mremove\u001b[0m\u001b[0;34m(\u001b[0m\u001b[0;36m5\u001b[0m\u001b[0;34m)\u001b[0m\u001b[0;34m\u001b[0m\u001b[0;34m\u001b[0m\u001b[0m\n\u001b[0m",
            "\u001b[0;31mKeyError\u001b[0m: 5"
          ]
        }
      ]
    },
    {
      "cell_type": "code",
      "source": [
        "for i in range(1,6):\n",
        "  set1.discard(i)\n",
        "\n",
        "set1\n",
        "#No arroja error por no tener el 5. El remove hubiera arrojado error."
      ],
      "metadata": {
        "colab": {
          "base_uri": "https://localhost:8080/"
        },
        "id": "kByINDNWt_3J",
        "outputId": "bf8e81f2-2c91-4cfd-aea6-6b38ea3ffb13"
      },
      "execution_count": 7,
      "outputs": [
        {
          "output_type": "execute_result",
          "data": {
            "text/plain": [
              "{6, 7, 8, 9, 10}"
            ]
          },
          "metadata": {},
          "execution_count": 7
        }
      ]
    },
    {
      "cell_type": "code",
      "source": [
        "my_list = [1,2,3,4,5,6,2]\n",
        "my_set = set(my_list)\n",
        "my_set"
      ],
      "metadata": {
        "colab": {
          "base_uri": "https://localhost:8080/"
        },
        "id": "74XfhFGtuNN6",
        "outputId": "5857464e-4220-4f6d-faf1-f230b75bcbbf"
      },
      "execution_count": 15,
      "outputs": [
        {
          "output_type": "execute_result",
          "data": {
            "text/plain": [
              "{1, 2, 3, 4, 5, 6}"
            ]
          },
          "metadata": {},
          "execution_count": 15
        }
      ]
    },
    {
      "cell_type": "code",
      "source": [
        "my_strg = \"Python\"\n",
        "my_set2 = set(my_strg)\n",
        "my_set2"
      ],
      "metadata": {
        "colab": {
          "base_uri": "https://localhost:8080/"
        },
        "id": "Ax_2cfhrulma",
        "outputId": "ec6cb9a2-b25d-4fa2-8d46-e8cccbf59388"
      },
      "execution_count": 16,
      "outputs": [
        {
          "output_type": "execute_result",
          "data": {
            "text/plain": [
              "{'P', 'h', 'n', 'o', 't', 'y'}"
            ]
          },
          "metadata": {},
          "execution_count": 16
        }
      ]
    },
    {
      "cell_type": "code",
      "source": [
        "# Ejercicio 1\n",
        "money = {\"euro\":\"€\", \"dolar\": \"$\", \"yen\": \"¥\"}\n",
        "\n",
        "selection = input(\"¿Qué moneda quieres (euro, dolar, yen): \").lower()\n",
        "if selection in money:\n",
        "  print(f\"La monera seleccionada es: ¨{money[selection]}¨\")\n",
        "else:\n",
        "  print(\"La moneda no se encuentra en el diccionario.\")\n",
        "  print(\"Las monedas disponibles son:\")\n",
        "  for current in money:\n",
        "    print(f\"- {current.capitalize()}\")\n"
      ],
      "metadata": {
        "colab": {
          "base_uri": "https://localhost:8080/"
        },
        "id": "8zdE3_JbwW09",
        "outputId": "b88cbf3f-59b9-4000-e0ad-334013578f9e"
      },
      "execution_count": 21,
      "outputs": [
        {
          "output_type": "stream",
          "name": "stdout",
          "text": [
            "¿Qué moneda quieres (euro, dolar, yen): euro\n",
            "La monera seleccionada es: ¨€¨\n"
          ]
        }
      ]
    },
    {
      "cell_type": "code",
      "source": [
        "# Ejercicio 2\n",
        "name = input(\"¿Cuál es tu nombre?: \")\n",
        "age = input(\"¿Cuál es tu edad?: \")\n",
        "adreess = input(\"¿Cuál es tu dirección?: \")\n",
        "phone = input(\"¿Cuál es tu teléfono?: \")\n",
        "usser_data = {\n",
        "    \"nombre\": name,\n",
        "    \"edad\": age,\n",
        "    \"direccion\": adreess,\n",
        "    \"telefono\": phone\n",
        "}\n",
        "print ( \"Los datos del usuario son:\")\n",
        "for clave, valor in usser_data.items():\n",
        "  print(f\"- {clave.capitalize()}: {valor}\")\n",
        "\n",
        "print(usser_data.get(\"nombre\").capitalize(), \"tiene\", usser_data.get(\"edad\"), \"años, vive en\", usser_data.get(\"direccion\"), \"y su número de teléfono es\", usser_data.get(\"telefono\"), \".\")\n"
      ],
      "metadata": {
        "colab": {
          "base_uri": "https://localhost:8080/"
        },
        "id": "YvCmd0nLz6ZZ",
        "outputId": "7a8e37d8-b393-4116-97b8-130262f5b851"
      },
      "execution_count": 27,
      "outputs": [
        {
          "output_type": "stream",
          "name": "stdout",
          "text": [
            "¿Cuál es tu nombre?: miguel\n",
            "¿Cuál es tu edad?: 30\n",
            "¿Cuál es tu dirección?: asdaeca\n",
            "¿Cuál es tu teléfono?: 918231023\n",
            "Los datos del usuario son:\n",
            "- Nombre: miguel\n",
            "- Edad: 30\n",
            "- Direccion: asdaeca\n",
            "- Telefono: 918231023\n",
            "Miguel tiene 30 años, vive en asdaeca y su número de teléfono es 918231023 .\n"
          ]
        }
      ]
    },
    {
      "cell_type": "code",
      "source": [
        "fruits = {\"Platano\": 1.35, \"Manzana\": 0.80, \"Pera\": 0.85, \"Naranja\": 0.70}\n",
        "\n",
        "selection = input(\"¿Qué fruta deseas comprar?: \").title()\n",
        "kilos = float(input(\"¿Cuántos kilos?: \"))\n",
        "\n",
        "if selection in fruits:\n",
        "  price = fruits[selection] * kilos\n",
        "  print(f\"El precio total de la compra es de {price} soles.\")\n",
        "else:\n",
        "  print(\"La fruta no se encuentra en el diccionario.\")"
      ],
      "metadata": {
        "colab": {
          "base_uri": "https://localhost:8080/"
        },
        "id": "mEzNIFsf1Yk5",
        "outputId": "05738ca8-e804-4473-ee9d-bf5ca06bd6f0"
      },
      "execution_count": 37,
      "outputs": [
        {
          "output_type": "stream",
          "name": "stdout",
          "text": [
            "¿Qué fruta deseas comprar?: pERA\n",
            "¿Cuántos kilos?: 2\n",
            "El precio total de la compra es de 1.7 soles.\n"
          ]
        }
      ]
    },
    {
      "cell_type": "code",
      "source": [
        "months = {1:\"Enero\", 2: \"Febrero\", 3:\"Marzo\", 4:\"Abril\", 5:\"Mayo\", 6:\"Junio\", 7:\"Julio\", 8:\"Agosto\", 9:\"Septiembre\", 10:\"Octubre\", 11:\"Noviembre\", 12:\"Diciembre\"}\n",
        "date = input(\"Introduce una fecha (dd/mm/aaaa): \")\n",
        "day, month, year = map(int, date.split(\"/\"))\n",
        "if month in months:\n",
        "  print (f\"La fecha introducida es: {day} de {months[month]} de {year}.\")\n",
        "else:\n",
        "  print(\"La fecha no es válida.\")"
      ],
      "metadata": {
        "colab": {
          "base_uri": "https://localhost:8080/"
        },
        "id": "yrgkgYk3367B",
        "outputId": "e4ec5f54-36c7-485f-e44b-4dc1c69a2425"
      },
      "execution_count": 33,
      "outputs": [
        {
          "output_type": "stream",
          "name": "stdout",
          "text": [
            "Introduce una fecha (dd/mm/aaaa): 22/05/2025\n",
            "La fecha introducida es: 22 de Mayo de 2025.\n"
          ]
        }
      ]
    },
    {
      "cell_type": "code",
      "source": [],
      "metadata": {
        "id": "NXso7d4j46fx"
      },
      "execution_count": null,
      "outputs": []
    }
  ]
}